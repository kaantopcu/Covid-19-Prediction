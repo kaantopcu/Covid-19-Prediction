{
  "nbformat": 4,
  "nbformat_minor": 0,
  "metadata": {
    "colab": {
      "name": "MI 502 Project ver1.ipynb",
      "provenance": [],
      "collapsed_sections": []
    },
    "kernelspec": {
      "name": "python3",
      "display_name": "Python 3"
    },
    "language_info": {
      "name": "python"
    },
    "gpuClass": "standard",
    "accelerator": "GPU"
  },
  "cells": [
    {
      "cell_type": "code",
      "execution_count": 1,
      "metadata": {
        "id": "ClqXJr0aSV_M",
        "colab": {
          "base_uri": "https://localhost:8080/"
        },
        "outputId": "f695b0e6-0358-4aaa-9e88-b2f22b5e6bf5"
      },
      "outputs": [
        {
          "output_type": "stream",
          "name": "stdout",
          "text": [
            "Using cuda for inference\n"
          ]
        }
      ],
      "source": [
        "import torch, torchvision\n",
        "import numpy as np\n",
        "import pandas as pd\n",
        "import os\n",
        "import torchvision.transforms as transforms\n",
        "import torchvision.datasets as datasets\n",
        "import torch.nn.functional as F\n",
        "import torch.nn as nn\n",
        "import torch.optim as optim\n",
        "from torch.utils.data import Dataset, DataLoader\n",
        "from PIL import Image, ImageFile\n",
        "import matplotlib.pyplot as plt\n",
        "from torch.optim.lr_scheduler import StepLR\n",
        "from torch.utils.tensorboard import SummaryWriter\n",
        "from torchvision.datasets import ImageFolder\n",
        "\n",
        "device = torch.device(\"cuda\") if torch.cuda.is_available() else torch.device(\"cpu\")\n",
        "print(f'Using {device} for inference')"
      ]
    },
    {
      "cell_type": "code",
      "source": [
        "# Helper for visualization\n",
        "def torch_imshow(img):\n",
        "    img = img.permute(1,2,0)\n",
        "    plt.imshow(img.cpu().numpy())\n",
        "    plt.show()"
      ],
      "metadata": {
        "id": "QfGrkkqqTy1n"
      },
      "execution_count": 2,
      "outputs": []
    },
    {
      "cell_type": "code",
      "source": [
        "# Mounting Google Drive \n",
        "\n",
        "from google.colab import drive\n",
        "drive.mount(\"/content/gdrive\")"
      ],
      "metadata": {
        "id": "WLSl11tfUtFw",
        "colab": {
          "base_uri": "https://localhost:8080/"
        },
        "outputId": "6df4803a-4f7d-40a9-8a57-5f156aa8e126"
      },
      "execution_count": 3,
      "outputs": [
        {
          "output_type": "stream",
          "name": "stdout",
          "text": [
            "Drive already mounted at /content/gdrive; to attempt to forcibly remount, call drive.mount(\"/content/gdrive\", force_remount=True).\n"
          ]
        }
      ]
    },
    {
      "cell_type": "code",
      "source": [
        "import os\n",
        "\n",
        "# The path to Covid dataset directory\n",
        "\n",
        "dataset_path = '/content/gdrive/MyDrive/MI502_Project'\n",
        "\n",
        "training_set_path = os.path.join(dataset_path, 'training_set')\n",
        "validation_set_path = os.path.join(dataset_path, 'validation_set')\n",
        "test_set_path = os.path.join(dataset_path, 'test_set')\n",
        "\n",
        "print(training_set_path)\n",
        "print(validation_set_path)\n",
        "print(test_set_path)"
      ],
      "metadata": {
        "id": "7YPB9RKfU99F",
        "colab": {
          "base_uri": "https://localhost:8080/"
        },
        "outputId": "e98413de-f035-4f47-80a2-bb292f7a1b05"
      },
      "execution_count": 4,
      "outputs": [
        {
          "output_type": "stream",
          "name": "stdout",
          "text": [
            "/content/gdrive/MyDrive/MI502_Project/training_set\n",
            "/content/gdrive/MyDrive/MI502_Project/validation_set\n",
            "/content/gdrive/MyDrive/MI502_Project/test_set\n"
          ]
        }
      ]
    },
    {
      "cell_type": "code",
      "source": [
        "# Training dataset transforms\n",
        "# Random horizontal flip with probability 0.5 as data augmentation\n",
        "# Resizing images to 100 x 100\n",
        "# Converting images to torch tensor\n",
        "\n",
        "training_transforms = torchvision.transforms.Compose([\n",
        "        torchvision.transforms.RandomHorizontalFlip(p=0.5),\n",
        "        torchvision.transforms.Resize(size=(100, 100)),\n",
        "        torchvision.transforms.ToTensor()\n",
        "])\n",
        "\n",
        "training_dataset = torchvision.datasets.ImageFolder(root=training_set_path, \n",
        "                                                    transform=training_transforms)"
      ],
      "metadata": {
        "id": "eLzmjtoiUg2O"
      },
      "execution_count": 5,
      "outputs": []
    },
    {
      "cell_type": "code",
      "source": [
        "# Validation dataset transforms\n",
        "# Resizing images to 100 x 100\n",
        "# Converting images to torch tensor\n",
        "\n",
        "validation_transforms = torchvision.transforms.Compose([\n",
        "    torchvision.transforms.Resize(size=(100, 100)),\n",
        "    torchvision.transforms.ToTensor()\n",
        "])\n",
        "\n",
        "validation_dataset = torchvision.datasets.ImageFolder(root=validation_set_path, \n",
        "                                                      transform=validation_transforms)"
      ],
      "metadata": {
        "id": "23HkoyFe0Ty5"
      },
      "execution_count": 6,
      "outputs": []
    },
    {
      "cell_type": "code",
      "source": [
        "# Test dataset transforms\n",
        "# Resizing images to 100 x 100\n",
        "# Converting images to torch tensor\n",
        "\n",
        "test_transforms = torchvision.transforms.Compose([\n",
        "    torchvision.transforms.Resize(size=(100, 100)),\n",
        "    torchvision.transforms.ToTensor()\n",
        "])\n",
        "\n",
        "test_dataset = torchvision.datasets.ImageFolder(root=test_set_path, \n",
        "                                                    transform=test_transforms)"
      ],
      "metadata": {
        "id": "s5vyN9t11dQM"
      },
      "execution_count": 7,
      "outputs": []
    },
    {
      "cell_type": "code",
      "source": [
        "# Visualizing images from each class \n",
        "\n",
        "covid_img, covid_label = training_dataset[1]\n",
        "torch_imshow(covid_img)\n",
        "print(f'Label for covid: {covid_label}')\n",
        "\n",
        "noncovid_img, noncovid_label = training_dataset[-1]\n",
        "torch_imshow(noncovid_img)\n",
        "print(f'Label for noncovid: {noncovid_label}')"
      ],
      "metadata": {
        "id": "eI3H01w__Ukw",
        "colab": {
          "base_uri": "https://localhost:8080/",
          "height": 555
        },
        "outputId": "20308cd2-178f-43fe-98f2-70aac8229b79"
      },
      "execution_count": 8,
      "outputs": [
        {
          "output_type": "display_data",
          "data": {
            "text/plain": [
              "<Figure size 432x288 with 1 Axes>"
            ],
            "image/png": "[encoded data removed]"
          },
          "metadata": {
            "needs_background": "light"
          }
        },
        {
          "output_type": "stream",
          "name": "stdout",
          "text": [
            "Label for covid: 0\n"
          ]
        },
        {
          "output_type": "display_data",
          "data": {
            "text/plain": [
              "<Figure size 432x288 with 1 Axes>"
            ],
            "image/png": "[encoded data removed]"
          },
          "metadata": {
            "needs_background": "light"
          }
        },
        {
          "output_type": "stream",
          "name": "stdout",
          "text": [
            "Label for noncovid: 1\n"
          ]
        }
      ]
    },
    {
      "cell_type": "code",
      "source": [
        "# Preparing Data Loaders with Batch Size of 32 for all datasets and Shuffling only Training Dataset\n",
        "\n",
        "training_dataloader   = torch.utils.data.DataLoader(training_dataset, batch_size=32, shuffle=True)\n",
        "validation_dataloader = torch.utils.data.DataLoader(validation_dataset, batch_size=32, shuffle=False)\n",
        "test_dataloader       = torch.utils.data.DataLoader(test_dataset, batch_size=32, shuffle=False)"
      ],
      "metadata": {
        "id": "iXHv_N7ZANPt"
      },
      "execution_count": 9,
      "outputs": []
    },
    {
      "cell_type": "code",
      "source": [
        "# Stride of 1 for convolutional layers\n",
        "# Stride of 3 for max pooling layer\n",
        "# ReLU activation for hidden layers\n",
        "# Batch normalization after all convolutional layers\n",
        "# Dropout with 0.1 probability for the hidden fully connected layer\n",
        "# Softmax activation in the final layer\n",
        "\n",
        "class ConvNet(torch.nn.Module):\n",
        "    def __init__(self):\n",
        "        super().__init__() \n",
        "        \n",
        "        self.conv1 = torch.nn.Conv2d(in_channels=3, out_channels=16, kernel_size=5, stride=1)        \n",
        "        self.maxpool1 = torch.nn.MaxPool2d(kernel_size=3,stride=3)\n",
        "        self.batchnorm1 = torch.nn.BatchNorm2d(num_features=16)\n",
        "        self.relu = torch.nn.ReLU\n",
        "        \n",
        "        self.conv2 = torch.nn.Conv2d(in_channels=16, out_channels=32, kernel_size=5, stride=1)       \n",
        "        self.maxpool2 = torch.nn.MaxPool2d(kernel_size=3,stride=3)      \n",
        "        self.batchnorm2 = torch.nn.BatchNorm2d(num_features=32)  \n",
        "        self.relu = torch.nn.ReLU\n",
        "        \n",
        "        self.conv3 = torch.nn.Conv2d(in_channels=32, out_channels=32, kernel_size=5, stride=1)        \n",
        "        self.maxpool3 = torch.nn.MaxPool2d(kernel_size=3,stride=3)\n",
        "        self.batchnorm3 = torch.nn.BatchNorm2d(num_features=32)\n",
        "        self.relu = torch.nn.ReLU\n",
        "        \n",
        "        self.fc1 = torch.nn.Linear(32*1*1, 16)       \n",
        "        self.dropout1 = torch.nn.Dropout2d(0.1)\n",
        "        self.relu = torch.nn.ReLU\n",
        "\n",
        "        self.fc2 = torch.nn.Linear(16, 2)\n",
        "        \n",
        "    def forward(self, x):\n",
        "        \n",
        "        x = self.conv1(x)\n",
        "        x = self.maxpool1(x)\n",
        "        x = self.batchnorm1(x)\n",
        "        \n",
        "        x = self.conv2(x)\n",
        "        x = self.maxpool2(x)\n",
        "        x = self.batchnorm2(x)      \n",
        "\n",
        "        x = self.conv3(x)\n",
        "        x = self.maxpool3(x)\n",
        "        x = self.batchnorm3(x)\n",
        "\n",
        "        x = x.view(-1,32*1*1)\n",
        "        x = self.fc1(x)\n",
        "        x = self.dropout1(x)\n",
        "        \n",
        "        x = self.fc2(x)\n",
        "                     \n",
        "        x = torch.nn.functional.softmax(x,dim = 1)\n",
        "      \n",
        "\n",
        "        return x\n",
        "        \n",
        "\n",
        "test_convnet = ConvNet().to('cuda')\n",
        "test_input = torch.randn(16, 3, 100, 100, device='cuda')\n",
        "test_output = test_convnet(test_input)\n",
        "print(test_output.shape)"
      ],
      "metadata": {
        "id": "z2K1SANtAdSC",
        "colab": {
          "base_uri": "https://localhost:8080/"
        },
        "outputId": "51b29cf8-fbf1-442b-9b82-7530b784d919"
      },
      "execution_count": 10,
      "outputs": [
        {
          "output_type": "stream",
          "name": "stdout",
          "text": [
            "torch.Size([16, 2])\n"
          ]
        },
        {
          "output_type": "stream",
          "name": "stderr",
          "text": [
            "/usr/local/lib/python3.7/dist-packages/torch/nn/functional.py:1320: UserWarning: dropout2d: Received a 2-D input to dropout2d, which is deprecated and will result in an error in a future release. To retain the behavior and silence this warning, please use dropout instead. Note that dropout2d exists to provide channel-wise dropout on inputs with 2 spatial dimensions, a channel dimension, and an optional batch dimension (i.e. 3D or 4D inputs).\n",
            "  warnings.warn(warn_msg)\n"
          ]
        }
      ]
    },
    {
      "cell_type": "code",
      "source": [
        "# Defining loss function\n",
        "loss_fn = torch.nn.CrossEntropyLoss()"
      ],
      "metadata": {
        "id": "iH300BSuA-aW"
      },
      "execution_count": 11,
      "outputs": []
    },
    {
      "cell_type": "code",
      "source": [
        "# Defining optimizer\n",
        "optimizer = torch.optim.Adam(ConvNet().to('cuda').parameters(),lr = 0.01)\n",
        "print(optimizer)"
      ],
      "metadata": {
        "id": "DE4hk6cbBIbY",
        "colab": {
          "base_uri": "https://localhost:8080/"
        },
        "outputId": "88266e10-2984-40dd-cb91-1fc459b5bfd0"
      },
      "execution_count": 12,
      "outputs": [
        {
          "output_type": "stream",
          "name": "stdout",
          "text": [
            "Adam (\n",
            "Parameter Group 0\n",
            "    amsgrad: False\n",
            "    betas: (0.9, 0.999)\n",
            "    eps: 1e-08\n",
            "    lr: 0.01\n",
            "    maximize: False\n",
            "    weight_decay: 0\n",
            ")\n"
          ]
        }
      ]
    },
    {
      "cell_type": "code",
      "source": [
        "# Defining a function that takes a model and a dataloader and outputs model accuracy on the dataloader\n",
        "\n",
        "def check_accuracy(neuralnet, dataloader):\n",
        "    \n",
        "\n",
        "    true_predictions = 0\n",
        "    false_predictions = 0\n",
        "    \n",
        "    for images,labels in dataloader:\n",
        "\n",
        "      # Move batch to GPU\n",
        "      images, labels = images.cuda(), labels.cuda()\n",
        "\n",
        "      # Run the network with images batch and obtain the class scores\n",
        "      class_scores = neuralnet(images)\n",
        "\n",
        "      # Extracting predictions from class_scores using torch.argmax() method\n",
        "      class_predictions = torch.argmax(class_scores,dim=-1)      \n",
        "    \n",
        "      # True and false predictions in the batch using test_labels and class_predictions\n",
        "      true_predictions_batch  = torch.sum(class_predictions == labels)\n",
        "      false_predictions_batch = torch.sum(class_predictions != labels)\n",
        "    \n",
        "      true_predictions  += true_predictions_batch.item()\n",
        "      false_predictions += false_predictions_batch.item()\n",
        "\n",
        "      accuracy = true_predictions / (true_predictions + false_predictions)\n",
        "       \n",
        "\n",
        "    return accuracy"
      ],
      "metadata": {
        "id": "_rph3HNwBVk4"
      },
      "execution_count": 13,
      "outputs": []
    },
    {
      "cell_type": "code",
      "source": [
        "# Caclulating the test accuracy before training\n",
        "\n",
        "test_accuracy = check_accuracy(test_convnet, test_dataloader)\n",
        "print(f'Test accuracy before training: {test_accuracy * 100 :.2f}%')"
      ],
      "metadata": {
        "id": "0a3Gk2QYBYP6",
        "colab": {
          "base_uri": "https://localhost:8080/"
        },
        "outputId": "93382483-2ecc-4352-d623-d5e76970d5af"
      },
      "execution_count": 14,
      "outputs": [
        {
          "output_type": "stream",
          "name": "stderr",
          "text": [
            "/usr/local/lib/python3.7/dist-packages/torch/nn/functional.py:1320: UserWarning: dropout2d: Received a 2-D input to dropout2d, which is deprecated and will result in an error in a future release. To retain the behavior and silence this warning, please use dropout instead. Note that dropout2d exists to provide channel-wise dropout on inputs with 2 spatial dimensions, a channel dimension, and an optional batch dimension (i.e. 3D or 4D inputs).\n",
            "  warnings.warn(warn_msg)\n"
          ]
        },
        {
          "output_type": "stream",
          "name": "stdout",
          "text": [
            "Test accuracy before training: 52.67%\n"
          ]
        }
      ]
    },
    {
      "cell_type": "code",
      "source": [
        "# Training the model for 1 epoch\n",
        "\n",
        "def train_one_epoch(neuralnet, dataloader, optimizer, loss_fn):\n",
        "    \n",
        "    for imgs_batch, labels_batch in dataloader:\n",
        "        imgs_batch, labels_batch = imgs_batch.to(\"cuda\"), labels_batch.to(\"cuda\")     \n",
        "        \n",
        "        # Run the network with images batch and obtain the class scores\n",
        "        class_scores = neuralnet(imgs_batch)\n",
        "   \n",
        "        # Calculating loss using the loss function defined above\n",
        "        loss = loss_fn(class_scores, labels_batch)\n",
        "\n",
        "        # Taking an optimization step \n",
        "        optimizer.zero_grad()\n",
        "        loss.backward()\n",
        "        optimizer.step()"
      ],
      "metadata": {
        "id": "JYpa8b7CBdEZ"
      },
      "execution_count": 15,
      "outputs": []
    },
    {
      "cell_type": "code",
      "source": [
        "train_convnet = ConvNet().to('cuda')\n",
        "validation_convnet = ConvNet().to('cuda')"
      ],
      "metadata": {
        "id": "IRDZ_gQ7BgFf"
      },
      "execution_count": 16,
      "outputs": []
    },
    {
      "cell_type": "code",
      "source": [
        "# Use the training function you defined above to train your network on training set.\n",
        "\n",
        "training_accuracy_list = []\n",
        "validation_accuracy_list = []\n",
        "\n",
        "NUM_EPOCHS = 15 \n",
        "\n",
        "for epoch_no in range(NUM_EPOCHS):\n",
        "    print(f'Epoch {epoch_no + 1}...')\n",
        "    \n",
        "    train_one_epoch(test_convnet, training_dataloader, optimizer, loss_fn)\n",
        "    \n",
        "    training_accuracy = check_accuracy(test_convnet, training_dataloader)\n",
        "    print(f'Training   accuracy: {training_accuracy * 100 :.2f}%')\n",
        "    validation_accuracy = check_accuracy(test_convnet, validation_dataloader)\n",
        "    print(f'Validation accuracy: {validation_accuracy * 100 :.2f}%')\n",
        "    \n",
        "    training_accuracy_list.append(training_accuracy)\n",
        "    validation_accuracy_list.append(validation_accuracy)  "
      ],
      "metadata": {
        "id": "RzUynFQYBgvK",
        "colab": {
          "base_uri": "https://localhost:8080/"
        },
        "outputId": "d4c77497-ab56-4543-c180-ef3eb455755a"
      },
      "execution_count": 17,
      "outputs": [
        {
          "output_type": "stream",
          "name": "stdout",
          "text": [
            "Epoch 1...\n"
          ]
        },
        {
          "output_type": "stream",
          "name": "stderr",
          "text": [
            "/usr/local/lib/python3.7/dist-packages/torch/nn/functional.py:1320: UserWarning: dropout2d: Received a 2-D input to dropout2d, which is deprecated and will result in an error in a future release. To retain the behavior and silence this warning, please use dropout instead. Note that dropout2d exists to provide channel-wise dropout on inputs with 2 spatial dimensions, a channel dimension, and an optional batch dimension (i.e. 3D or 4D inputs).\n",
            "  warnings.warn(warn_msg)\n"
          ]
        },
        {
          "output_type": "stream",
          "name": "stdout",
          "text": [
            "Training   accuracy: 52.80%\n",
            "Validation accuracy: 42.71%\n",
            "Epoch 2...\n",
            "Training   accuracy: 52.20%\n",
            "Validation accuracy: 42.71%\n",
            "Epoch 3...\n",
            "Training   accuracy: 54.60%\n",
            "Validation accuracy: 43.75%\n",
            "Epoch 4...\n",
            "Training   accuracy: 52.40%\n",
            "Validation accuracy: 42.71%\n",
            "Epoch 5...\n",
            "Training   accuracy: 55.20%\n",
            "Validation accuracy: 42.71%\n",
            "Epoch 6...\n",
            "Training   accuracy: 54.40%\n",
            "Validation accuracy: 43.75%\n",
            "Epoch 7...\n",
            "Training   accuracy: 50.20%\n",
            "Validation accuracy: 39.58%\n",
            "Epoch 8...\n",
            "Training   accuracy: 52.40%\n",
            "Validation accuracy: 43.75%\n",
            "Epoch 9...\n",
            "Training   accuracy: 52.80%\n",
            "Validation accuracy: 41.67%\n",
            "Epoch 10...\n",
            "Training   accuracy: 56.40%\n",
            "Validation accuracy: 43.75%\n",
            "Epoch 11...\n",
            "Training   accuracy: 54.40%\n",
            "Validation accuracy: 42.71%\n",
            "Epoch 12...\n",
            "Training   accuracy: 53.00%\n",
            "Validation accuracy: 43.75%\n",
            "Epoch 13...\n",
            "Training   accuracy: 54.20%\n",
            "Validation accuracy: 42.71%\n",
            "Epoch 14...\n",
            "Training   accuracy: 55.00%\n",
            "Validation accuracy: 41.67%\n",
            "Epoch 15...\n",
            "Training   accuracy: 51.80%\n",
            "Validation accuracy: 42.71%\n"
          ]
        }
      ]
    },
    {
      "cell_type": "code",
      "source": [
        "plt.plot(training_accuracy_list)\n",
        "plt.plot(validation_accuracy_list)\n",
        "plt.xlabel(\"Epochs\")\n",
        "plt.ylabel(\"Accuracy\")\n",
        "plt.title(\"Training and Validation Accuracy Through Epochs\")"
      ],
      "metadata": {
        "id": "TcRcUGzwBkgk",
        "colab": {
          "base_uri": "https://localhost:8080/",
          "height": 313
        },
        "outputId": "58003dc5-3d52-482d-81d3-9906caf8d95e"
      },
      "execution_count": 18,
      "outputs": [
        {
          "output_type": "execute_result",
          "data": {
            "text/plain": [
              "Text(0.5, 1.0, 'Training and Validation Accuracy Through Epochs')"
            ]
          },
          "metadata": {},
          "execution_count": 18
        },
        {
          "output_type": "display_data",
          "data": {
            "text/plain": [
              "<Figure size 432x288 with 1 Axes>"
            ],
            "image/png": "[encoded data removed]"
          },
          "metadata": {
            "needs_background": "light"
          }
        }
      ]
    },
    {
      "cell_type": "code",
      "source": [
        "# Use the test function you defined above to test your network after training\n",
        "test_accuracy = check_accuracy(test_convnet, test_dataloader)\n",
        "print(f'Test accuracy after training: {test_accuracy * 100 :.2f}%')"
      ],
      "metadata": {
        "id": "28qoxL_PBmE4",
        "colab": {
          "base_uri": "https://localhost:8080/"
        },
        "outputId": "3c262873-9196-4d27-efca-2f39802f9395"
      },
      "execution_count": 19,
      "outputs": [
        {
          "output_type": "stream",
          "name": "stderr",
          "text": [
            "/usr/local/lib/python3.7/dist-packages/torch/nn/functional.py:1320: UserWarning: dropout2d: Received a 2-D input to dropout2d, which is deprecated and will result in an error in a future release. To retain the behavior and silence this warning, please use dropout instead. Note that dropout2d exists to provide channel-wise dropout on inputs with 2 spatial dimensions, a channel dimension, and an optional batch dimension (i.e. 3D or 4D inputs).\n",
            "  warnings.warn(warn_msg)\n"
          ]
        },
        {
          "output_type": "stream",
          "name": "stdout",
          "text": [
            "Test accuracy after training: 53.33%\n"
          ]
        }
      ]
    }
  ]
}